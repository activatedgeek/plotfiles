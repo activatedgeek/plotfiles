{
 "metadata": {
  "language_info": {
   "codemirror_mode": {
    "name": "ipython",
    "version": 3
   },
   "file_extension": ".py",
   "mimetype": "text/x-python",
   "name": "python",
   "nbconvert_exporter": "python",
   "pygments_lexer": "ipython3",
   "version": "3.9.4"
  },
  "orig_nbformat": 4,
  "kernelspec": {
   "name": "python3",
   "display_name": "Python 3.9.4 64-bit ('plotfiles': conda)"
  },
  "interpreter": {
   "hash": "acaa18385cf9438e6908704dcc13e2e4c43c7d30069d9304f01e7c70c04f94e1"
  }
 },
 "nbformat": 4,
 "nbformat_minor": 2,
 "cells": [
  {
   "source": [
    "# Contour Plots\n",
    "\n",
    "- toc:true\n",
    "- badges: true\n",
    "- author: Sanyam Kapoor"
   ],
   "cell_type": "markdown",
   "metadata": {}
  },
  {
   "cell_type": "code",
   "execution_count": null,
   "metadata": {},
   "outputs": [],
   "source": [
    "#collapse-hide\n",
    "\n",
    "import numpy as np\n",
    "import pandas as pd\n",
    "import matplotlib.pyplot as plt\n",
    "import seaborn as sns\n",
    "\n",
    "sns.set(font_scale=2., style='whitegrid')"
   ]
  },
  {
   "source": [
    "### Toy Mixture of Two Gaussians"
   ],
   "cell_type": "markdown",
   "metadata": {}
  },
  {
   "cell_type": "code",
   "execution_count": null,
   "metadata": {},
   "outputs": [],
   "source": [
    "from scipy.stats import multivariate_normal as mvn\n",
    "\n",
    "def mog2(x):\n",
    "    L  = np.array([[1., 0], [1., 2.]])\n",
    "    return mvn(mean=np.array([-2., 2.]),\n",
    "               cov=np.matmul(L, L.T)).pdf(x) + \\\n",
    "           mvn(mean=np.array([2., -2.])).pdf(x)\n",
    "\n",
    "x = np.mgrid[-5:5:.1, -5:6.5:.1]\n",
    "pdf = mog2(x.reshape(2, -1).T).reshape(*x.shape[1:])\n",
    "x.shape, pdf.shape"
   ]
  },
  {
   "source": [
    "## Contour Lines Plot"
   ],
   "cell_type": "markdown",
   "metadata": {}
  },
  {
   "cell_type": "code",
   "execution_count": null,
   "metadata": {
    "tags": []
   },
   "outputs": [],
   "source": [
    "#collapse-hide\n",
    "\n",
    "fig, ax = plt.subplots(figsize=(7,7))\n",
    "\n",
    "ax.contour(x[0], x[1], pdf, levels=10,\n",
    "            cmap=sns.color_palette(\"magma\", as_cmap=True))\n",
    "ax.set_axis_off()"
   ]
  },
  {
   "source": [
    "## Filled Contour Plot"
   ],
   "cell_type": "markdown",
   "metadata": {}
  },
  {
   "cell_type": "code",
   "execution_count": null,
   "metadata": {},
   "outputs": [],
   "source": [
    "#collapse-hide\n",
    "\n",
    "fig, ax = plt.subplots(figsize=(7,7))\n",
    "\n",
    "ax.contourf(x[0], x[1], pdf, levels=7,\n",
    "            cmap=sns.color_palette(\"crest_r\", as_cmap=True))\n",
    "ax.set_axis_off()"
   ]
  },
  {
   "source": [
    "## Contour Plots with colorbar"
   ],
   "cell_type": "markdown",
   "metadata": {}
  },
  {
   "cell_type": "code",
   "execution_count": null,
   "metadata": {},
   "outputs": [],
   "source": [
    "#collapse-hide\n",
    "\n",
    "fig, ax = plt.subplots(figsize=(7,7))\n",
    "\n",
    "cf = ax.contourf(x[0], x[1], pdf, levels=7,\n",
    "                      cmap=sns.color_palette(\"crest_r\", as_cmap=True))\n",
    "ax.set_xticks([])\n",
    "ax.set_yticks([])\n",
    "ax.set_xlabel('x')\n",
    "ax.set_ylabel('y')\n",
    "\n",
    "cbaxes = fig.add_axes([.2, .02, .6, .02]) \n",
    "fig.colorbar(cf, ticks=np.linspace(0., .2, 6),\n",
    "             orientation='horizontal', cax=cbaxes);"
   ]
  }
 ]
}